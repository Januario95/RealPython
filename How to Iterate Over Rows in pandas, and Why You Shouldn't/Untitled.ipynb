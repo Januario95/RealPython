{
 "cells": [
  {
   "cell_type": "code",
   "execution_count": 1,
   "metadata": {},
   "outputs": [
    {
     "data": {
      "application/javascript": [
       "IPython.notebook.set_autosave_interval(5000)"
      ]
     },
     "metadata": {},
     "output_type": "display_data"
    },
    {
     "name": "stdout",
     "output_type": "stream",
     "text": [
      "Autosaving every 5 seconds\n"
     ]
    }
   ],
   "source": [
    "%autosave 5"
   ]
  },
  {
   "cell_type": "code",
   "execution_count": 2,
   "metadata": {},
   "outputs": [],
   "source": [
    "import numpy as np\n",
    "import pandas as pd"
   ]
  },
  {
   "cell_type": "code",
   "execution_count": 3,
   "metadata": {},
   "outputs": [
    {
     "name": "stdout",
     "output_type": "stream",
     "text": [
      "Collecting httpx\n",
      "  Downloading httpx-0.23.3-py3-none-any.whl (71 kB)\n",
      "Collecting codetiming\n",
      "  Downloading codetiming-1.4.0-py3-none-any.whl (7.2 kB)\n",
      "Collecting rfc3986[idna2008]<2,>=1.3\n",
      "  Downloading rfc3986-1.5.0-py2.py3-none-any.whl (31 kB)\n",
      "Requirement already satisfied: certifi in c:\\programdata\\anaconda3\\lib\\site-packages (from httpx) (2020.6.20)\n",
      "Collecting httpcore<0.17.0,>=0.15.0\n",
      "  Downloading httpcore-0.16.3-py3-none-any.whl (69 kB)\n",
      "Requirement already satisfied: sniffio in c:\\programdata\\anaconda3\\lib\\site-packages (from httpx) (1.3.0)\n",
      "Requirement already satisfied: idna; extra == \"idna2008\" in c:\\programdata\\anaconda3\\lib\\site-packages (from rfc3986[idna2008]<2,>=1.3->httpx) (2.10)\n",
      "Requirement already satisfied: anyio<5.0,>=3.0 in c:\\programdata\\anaconda3\\lib\\site-packages (from httpcore<0.17.0,>=0.15.0->httpx) (3.6.2)\n",
      "Requirement already satisfied: h11<0.15,>=0.13 in c:\\programdata\\anaconda3\\lib\\site-packages (from httpcore<0.17.0,>=0.15.0->httpx) (0.14.0)\n",
      "Installing collected packages: rfc3986, httpcore, httpx, codetiming\n",
      "Successfully installed codetiming-1.4.0 httpcore-0.16.3 httpx-0.23.3 rfc3986-1.5.0\n"
     ]
    }
   ],
   "source": [
    "! pip install httpx codetiming"
   ]
  },
  {
   "cell_type": "code",
   "execution_count": 42,
   "metadata": {},
   "outputs": [
    {
     "data": {
      "text/html": [
       "<div>\n",
       "<style scoped>\n",
       "    .dataframe tbody tr th:only-of-type {\n",
       "        vertical-align: middle;\n",
       "    }\n",
       "\n",
       "    .dataframe tbody tr th {\n",
       "        vertical-align: top;\n",
       "    }\n",
       "\n",
       "    .dataframe thead th {\n",
       "        text-align: right;\n",
       "    }\n",
       "</style>\n",
       "<table border=\"1\" class=\"dataframe\">\n",
       "  <thead>\n",
       "    <tr style=\"text-align: right;\">\n",
       "      <th></th>\n",
       "      <th>name</th>\n",
       "      <th>url</th>\n",
       "      <th>total_views</th>\n",
       "    </tr>\n",
       "  </thead>\n",
       "  <tbody>\n",
       "    <tr>\n",
       "      <th>0</th>\n",
       "      <td>Google</td>\n",
       "      <td>https://www.google.com</td>\n",
       "      <td>5.207268e+11</td>\n",
       "    </tr>\n",
       "    <tr>\n",
       "      <th>1</th>\n",
       "      <td>YouTube</td>\n",
       "      <td>https://www.youtube.com</td>\n",
       "      <td>2.358132e+11</td>\n",
       "    </tr>\n",
       "    <tr>\n",
       "      <th>2</th>\n",
       "      <td>Facebook</td>\n",
       "      <td>https://www.facebook.com</td>\n",
       "      <td>2.230157e+11</td>\n",
       "    </tr>\n",
       "    <tr>\n",
       "      <th>3</th>\n",
       "      <td>Yahoo</td>\n",
       "      <td>https://www.yahoo.com</td>\n",
       "      <td>1.256544e+11</td>\n",
       "    </tr>\n",
       "    <tr>\n",
       "      <th>4</th>\n",
       "      <td>Wikipedia</td>\n",
       "      <td>https://www.wikipedia.org</td>\n",
       "      <td>4.467364e+10</td>\n",
       "    </tr>\n",
       "    <tr>\n",
       "      <th>5</th>\n",
       "      <td>Baidu</td>\n",
       "      <td>https://www.baidu.com</td>\n",
       "      <td>4.409759e+10</td>\n",
       "    </tr>\n",
       "    <tr>\n",
       "      <th>6</th>\n",
       "      <td>Twitter</td>\n",
       "      <td>https://twitter.com</td>\n",
       "      <td>3.098676e+10</td>\n",
       "    </tr>\n",
       "    <tr>\n",
       "      <th>7</th>\n",
       "      <td>Yandex</td>\n",
       "      <td>https://yandex.com</td>\n",
       "      <td>2.857980e+10</td>\n",
       "    </tr>\n",
       "    <tr>\n",
       "      <th>8</th>\n",
       "      <td>Instagram</td>\n",
       "      <td>https://www.instagram.com</td>\n",
       "      <td>2.621520e+10</td>\n",
       "    </tr>\n",
       "    <tr>\n",
       "      <th>9</th>\n",
       "      <td>AOL</td>\n",
       "      <td>https://www.aol.com</td>\n",
       "      <td>2.321232e+10</td>\n",
       "    </tr>\n",
       "    <tr>\n",
       "      <th>10</th>\n",
       "      <td>Netscape</td>\n",
       "      <td>https://www.netscape.com</td>\n",
       "      <td>5.750000e+06</td>\n",
       "    </tr>\n",
       "    <tr>\n",
       "      <th>11</th>\n",
       "      <td>Nope</td>\n",
       "      <td>https://alwaysfails.example.com</td>\n",
       "      <td>0.000000e+00</td>\n",
       "    </tr>\n",
       "  </tbody>\n",
       "</table>\n",
       "</div>"
      ],
      "text/plain": [
       "         name                              url   total_views\n",
       "0      Google           https://www.google.com  5.207268e+11\n",
       "1     YouTube          https://www.youtube.com  2.358132e+11\n",
       "2    Facebook         https://www.facebook.com  2.230157e+11\n",
       "3       Yahoo            https://www.yahoo.com  1.256544e+11\n",
       "4   Wikipedia        https://www.wikipedia.org  4.467364e+10\n",
       "5       Baidu            https://www.baidu.com  4.409759e+10\n",
       "6     Twitter              https://twitter.com  3.098676e+10\n",
       "7      Yandex               https://yandex.com  2.857980e+10\n",
       "8   Instagram        https://www.instagram.com  2.621520e+10\n",
       "9         AOL              https://www.aol.com  2.321232e+10\n",
       "10   Netscape         https://www.netscape.com  5.750000e+06\n",
       "11       Nope  https://alwaysfails.example.com  0.000000e+00"
      ]
     },
     "execution_count": 42,
     "metadata": {},
     "output_type": "execute_result"
    }
   ],
   "source": [
    "df = pd.read_csv('popular_websites.csv')\n",
    "df"
   ]
  },
  {
   "cell_type": "code",
   "execution_count": 43,
   "metadata": {},
   "outputs": [],
   "source": [
    "import httpx"
   ]
  },
  {
   "cell_type": "code",
   "execution_count": 46,
   "metadata": {},
   "outputs": [],
   "source": [
    "def check_connection(name, url):\n",
    "    try:\n",
    "        response = httpx.get(url)\n",
    "        location = response.headers.get('location')\n",
    "        if location is None or location.startswith(url):\n",
    "            print(f'{name} is online')\n",
    "        else:\n",
    "            print(f'{name} is online! But redirects to {location}')\n",
    "        return True\n",
    "    except httpx.ConnectError:\n",
    "        print(f'Failed to establish a connection with {url}')\n",
    "        return False"
   ]
  },
  {
   "cell_type": "code",
   "execution_count": 47,
   "metadata": {},
   "outputs": [
    {
     "name": "stdout",
     "output_type": "stream",
     "text": [
      "Google is online\n",
      "YouTube is online\n",
      "Facebook is online\n",
      "Yahoo is online\n",
      "Wikipedia is online\n",
      "Baidu is online\n",
      "Twitter is online\n",
      "Yandex is online\n",
      "Instagram is online\n",
      "AOL is online\n",
      "Netscape is online! But redirects to https://www.aol.com/\n",
      "Failed to establish a connection with https://alwaysfails.example.com\n"
     ]
    }
   ],
   "source": [
    "for website in df.itertuples():\n",
    "    check_connection(website.name, website.url)"
   ]
  },
  {
   "cell_type": "code",
   "execution_count": 48,
   "metadata": {},
   "outputs": [
    {
     "name": "stdout",
     "output_type": "stream",
     "text": [
      "Google is online\n",
      "YouTube is online\n",
      "Facebook is online\n",
      "Yahoo is online\n",
      "Wikipedia is online\n",
      "Baidu is online\n",
      "Twitter is online\n",
      "Yandex is online\n",
      "Instagram is online\n",
      "AOL is online\n",
      "Netscape is online! But redirects to https://www.aol.com/\n",
      "Failed to establish a connection with https://alwaysfails.example.com\n"
     ]
    }
   ],
   "source": [
    "for _, website in df.iterrows():\n",
    "    check_connection(website['name'], website['url'])"
   ]
  },
  {
   "cell_type": "code",
   "execution_count": 49,
   "metadata": {},
   "outputs": [
    {
     "name": "stdout",
     "output_type": "stream",
     "text": [
      "1 4\n",
      "2 5\n",
      "3 6\n"
     ]
    }
   ],
   "source": [
    "a = [1, 2, 3]\n",
    "b = [4, 5, 6]\n",
    "for a_int, b_int in zip(a, b):\n",
    "    print(a_int, b_int)"
   ]
  },
  {
   "cell_type": "code",
   "execution_count": 50,
   "metadata": {},
   "outputs": [
    {
     "data": {
      "text/html": [
       "<div>\n",
       "<style scoped>\n",
       "    .dataframe tbody tr th:only-of-type {\n",
       "        vertical-align: middle;\n",
       "    }\n",
       "\n",
       "    .dataframe tbody tr th {\n",
       "        vertical-align: top;\n",
       "    }\n",
       "\n",
       "    .dataframe thead th {\n",
       "        text-align: right;\n",
       "    }\n",
       "</style>\n",
       "<table border=\"1\" class=\"dataframe\">\n",
       "  <thead>\n",
       "    <tr style=\"text-align: right;\">\n",
       "      <th></th>\n",
       "      <th>url</th>\n",
       "      <th>total_views</th>\n",
       "    </tr>\n",
       "    <tr>\n",
       "      <th>name</th>\n",
       "      <th></th>\n",
       "      <th></th>\n",
       "    </tr>\n",
       "  </thead>\n",
       "  <tbody>\n",
       "    <tr>\n",
       "      <th>Google</th>\n",
       "      <td>https://www.google.com</td>\n",
       "      <td>5.207268e+11</td>\n",
       "    </tr>\n",
       "    <tr>\n",
       "      <th>YouTube</th>\n",
       "      <td>https://www.youtube.com</td>\n",
       "      <td>2.358132e+11</td>\n",
       "    </tr>\n",
       "    <tr>\n",
       "      <th>Facebook</th>\n",
       "      <td>https://www.facebook.com</td>\n",
       "      <td>2.230157e+11</td>\n",
       "    </tr>\n",
       "    <tr>\n",
       "      <th>Yahoo</th>\n",
       "      <td>https://www.yahoo.com</td>\n",
       "      <td>1.256544e+11</td>\n",
       "    </tr>\n",
       "    <tr>\n",
       "      <th>Wikipedia</th>\n",
       "      <td>https://www.wikipedia.org</td>\n",
       "      <td>4.467364e+10</td>\n",
       "    </tr>\n",
       "    <tr>\n",
       "      <th>Baidu</th>\n",
       "      <td>https://www.baidu.com</td>\n",
       "      <td>4.409759e+10</td>\n",
       "    </tr>\n",
       "    <tr>\n",
       "      <th>Twitter</th>\n",
       "      <td>https://twitter.com</td>\n",
       "      <td>3.098676e+10</td>\n",
       "    </tr>\n",
       "    <tr>\n",
       "      <th>Yandex</th>\n",
       "      <td>https://yandex.com</td>\n",
       "      <td>2.857980e+10</td>\n",
       "    </tr>\n",
       "    <tr>\n",
       "      <th>Instagram</th>\n",
       "      <td>https://www.instagram.com</td>\n",
       "      <td>2.621520e+10</td>\n",
       "    </tr>\n",
       "    <tr>\n",
       "      <th>AOL</th>\n",
       "      <td>https://www.aol.com</td>\n",
       "      <td>2.321232e+10</td>\n",
       "    </tr>\n",
       "    <tr>\n",
       "      <th>Netscape</th>\n",
       "      <td>https://www.netscape.com</td>\n",
       "      <td>5.750000e+06</td>\n",
       "    </tr>\n",
       "    <tr>\n",
       "      <th>Nope</th>\n",
       "      <td>https://alwaysfails.example.com</td>\n",
       "      <td>0.000000e+00</td>\n",
       "    </tr>\n",
       "  </tbody>\n",
       "</table>\n",
       "</div>"
      ],
      "text/plain": [
       "                                       url   total_views\n",
       "name                                                    \n",
       "Google              https://www.google.com  5.207268e+11\n",
       "YouTube            https://www.youtube.com  2.358132e+11\n",
       "Facebook          https://www.facebook.com  2.230157e+11\n",
       "Yahoo                https://www.yahoo.com  1.256544e+11\n",
       "Wikipedia        https://www.wikipedia.org  4.467364e+10\n",
       "Baidu                https://www.baidu.com  4.409759e+10\n",
       "Twitter                https://twitter.com  3.098676e+10\n",
       "Yandex                  https://yandex.com  2.857980e+10\n",
       "Instagram        https://www.instagram.com  2.621520e+10\n",
       "AOL                    https://www.aol.com  2.321232e+10\n",
       "Netscape          https://www.netscape.com  5.750000e+06\n",
       "Nope       https://alwaysfails.example.com  0.000000e+00"
      ]
     },
     "execution_count": 50,
     "metadata": {},
     "output_type": "execute_result"
    }
   ],
   "source": [
    "websites = pd.read_csv('popular_websites.csv', index_col=0)\n",
    "websites"
   ]
  },
  {
   "cell_type": "code",
   "execution_count": 51,
   "metadata": {},
   "outputs": [
    {
     "data": {
      "text/plain": [
       "1302981160000.0"
      ]
     },
     "execution_count": 51,
     "metadata": {},
     "output_type": "execute_result"
    }
   ],
   "source": [
    "total = 0\n",
    "for website in websites.itertuples():\n",
    "    total += website.total_views\n",
    "    \n",
    "total"
   ]
  },
  {
   "cell_type": "code",
   "execution_count": 53,
   "metadata": {},
   "outputs": [
    {
     "data": {
      "text/plain": [
       "1302981160000.0"
      ]
     },
     "execution_count": 53,
     "metadata": {},
     "output_type": "execute_result"
    }
   ],
   "source": [
    "sum(website.total_views for website in \n",
    "    websites.itertuples())"
   ]
  },
  {
   "cell_type": "code",
   "execution_count": 54,
   "metadata": {},
   "outputs": [
    {
     "data": {
      "text/plain": [
       "1302981160000.0"
      ]
     },
     "execution_count": 54,
     "metadata": {},
     "output_type": "execute_result"
    }
   ],
   "source": [
    "websites['total_views'].sum()"
   ]
  },
  {
   "cell_type": "code",
   "execution_count": 55,
   "metadata": {},
   "outputs": [],
   "source": [
    "from codetiming import Timer"
   ]
  },
  {
   "cell_type": "code",
   "execution_count": 59,
   "metadata": {},
   "outputs": [],
   "source": [
    "def loop_sum(websites):\n",
    "    total = 0\n",
    "    for website in websites.itertuples():\n",
    "        total += website.total_views\n",
    "    return total"
   ]
  },
  {
   "cell_type": "code",
   "execution_count": 60,
   "metadata": {},
   "outputs": [],
   "source": [
    "def python_sum(websites):\n",
    "    return sum(website.total_views for website in \n",
    "               websites.itertuples())"
   ]
  },
  {
   "cell_type": "code",
   "execution_count": 61,
   "metadata": {},
   "outputs": [],
   "source": [
    "def pandas_sum(websites):\n",
    "    return websites[\"total_views\"].sum()"
   ]
  },
  {
   "cell_type": "code",
   "execution_count": 65,
   "metadata": {},
   "outputs": [
    {
     "name": "stdout",
     "output_type": "stream",
     "text": [
      "loop_sum            : 0.81 ms\n",
      "python_sum          : 0.82 ms\n",
      "pandas_sum          : 0.53 ms\n"
     ]
    }
   ],
   "source": [
    "for func in [loop_sum, python_sum, pandas_sum]:\n",
    "    websites = pd.read_csv(\"popular_websites.csv\", index_col=0)\n",
    "    with Timer(name=func.__name__, \n",
    "               text=\"{name:20}: {milliseconds:.2f} ms\"):\n",
    "        func(websites)"
   ]
  },
  {
   "cell_type": "code",
   "execution_count": 69,
   "metadata": {},
   "outputs": [
    {
     "name": "stdout",
     "output_type": "stream",
     "text": [
      "pandas_sum          : 0.47 ms\n",
      "loop_sum            : 17.57 ms\n",
      "python_sum          : 18.01 ms\n"
     ]
    }
   ],
   "source": [
    "for func in [pandas_sum, loop_sum, python_sum]:\n",
    "    websites = pd.read_csv(\"popular_websites.csv\", index_col=0)\n",
    "    websites = pd.concat([websites for _ in range(1000)])\n",
    "    with Timer(name=func.__name__, text=\"{name:20}: {milliseconds:.2f} ms\"):\n",
    "        func(websites)"
   ]
  },
  {
   "cell_type": "code",
   "execution_count": 103,
   "metadata": {},
   "outputs": [
    {
     "data": {
      "text/html": [
       "<div>\n",
       "<style scoped>\n",
       "    .dataframe tbody tr th:only-of-type {\n",
       "        vertical-align: middle;\n",
       "    }\n",
       "\n",
       "    .dataframe tbody tr th {\n",
       "        vertical-align: top;\n",
       "    }\n",
       "\n",
       "    .dataframe thead th {\n",
       "        text-align: right;\n",
       "    }\n",
       "</style>\n",
       "<table border=\"1\" class=\"dataframe\">\n",
       "  <thead>\n",
       "    <tr style=\"text-align: right;\">\n",
       "      <th></th>\n",
       "      <th>month</th>\n",
       "      <th>sales</th>\n",
       "      <th>unit_price</th>\n",
       "    </tr>\n",
       "  </thead>\n",
       "  <tbody>\n",
       "    <tr>\n",
       "      <th>0</th>\n",
       "      <td>january</td>\n",
       "      <td>3</td>\n",
       "      <td>0.50</td>\n",
       "    </tr>\n",
       "    <tr>\n",
       "      <th>1</th>\n",
       "      <td>february</td>\n",
       "      <td>2</td>\n",
       "      <td>0.53</td>\n",
       "    </tr>\n",
       "    <tr>\n",
       "      <th>2</th>\n",
       "      <td>march</td>\n",
       "      <td>5</td>\n",
       "      <td>0.55</td>\n",
       "    </tr>\n",
       "    <tr>\n",
       "      <th>3</th>\n",
       "      <td>april</td>\n",
       "      <td>10</td>\n",
       "      <td>0.71</td>\n",
       "    </tr>\n",
       "    <tr>\n",
       "      <th>4</th>\n",
       "      <td>may</td>\n",
       "      <td>8</td>\n",
       "      <td>0.66</td>\n",
       "    </tr>\n",
       "  </tbody>\n",
       "</table>\n",
       "</div>"
      ],
      "text/plain": [
       "      month  sales  unit_price\n",
       "0   january      3        0.50\n",
       "1  february      2        0.53\n",
       "2     march      5        0.55\n",
       "3     april     10        0.71\n",
       "4       may      8        0.66"
      ]
     },
     "execution_count": 103,
     "metadata": {},
     "output_type": "execute_result"
    }
   ],
   "source": [
    "df = pd.read_csv('products.csv')\n",
    "df"
   ]
  },
  {
   "cell_type": "code",
   "execution_count": 105,
   "metadata": {},
   "outputs": [],
   "source": [
    "def loop_sumsum(products):\n",
    "    cumulative_sum = []\n",
    "    for product in products.itertuples():\n",
    "        income = product.sales * product.unit_price\n",
    "        if cumulative_sum:\n",
    "            cumulative_sum.append(cumulative_sum[-1] + income)\n",
    "        else:\n",
    "            cumulative_sum.append(income)\n",
    "    return products.assign(cumulative_income=cumulative_sum)"
   ]
  },
  {
   "cell_type": "code",
   "execution_count": 108,
   "metadata": {},
   "outputs": [],
   "source": [
    "def pandas_cumsum(products):\n",
    "    return products.assign(\n",
    "        income=lambda df: df['sales'] * df['unit_price'],\n",
    "        cumulative_income=lambda df: df['income'].cumsum(),\n",
    "    ).drop(columns='income')"
   ]
  },
  {
   "cell_type": "code",
   "execution_count": 111,
   "metadata": {},
   "outputs": [
    {
     "name": "stdout",
     "output_type": "stream",
     "text": [
      "loop_sumsum         : 1.96 ms\n",
      "pandas_cumsum       : 3.71 ms\n"
     ]
    }
   ],
   "source": [
    "for func in [loop_sumsum, pandas_cumsum]:\n",
    "    products = pd.read_csv('products.csv')\n",
    "    with Timer(name=func.__name__,\n",
    "               text=\"{name:20}: {milliseconds:.2f} ms\"):\n",
    "        func(products)"
   ]
  },
  {
   "cell_type": "code",
   "execution_count": null,
   "metadata": {},
   "outputs": [],
   "source": []
  }
 ],
 "metadata": {
  "kernelspec": {
   "display_name": "Python 3",
   "language": "python",
   "name": "python3"
  },
  "language_info": {
   "codemirror_mode": {
    "name": "ipython",
    "version": 3
   },
   "file_extension": ".py",
   "mimetype": "text/x-python",
   "name": "python",
   "nbconvert_exporter": "python",
   "pygments_lexer": "ipython3",
   "version": "3.8.5"
  }
 },
 "nbformat": 4,
 "nbformat_minor": 4
}
